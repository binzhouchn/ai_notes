{
 "cells": [
  {
   "cell_type": "markdown",
   "metadata": {},
   "source": [
    "# VERSION2 \n",
    "## 结巴分词+词性标注+CRF++模型训练进行实体识别"
   ]
  },
  {
   "cell_type": "markdown",
   "metadata": {},
   "source": [
    "### 参考网址\n",
    "https://taku910.github.io/crfpp/#install (官网)<br>\n",
    "https://zhuanlan.zhihu.com/p/27955621<br>\n",
    "http://www.hankcs.com/nlp/the-crf-model-format-description.html<br>\n",
    "http://f.dataguru.cn/thread-866700-1-1.html<br>"
   ]
  },
  {
   "cell_type": "markdown",
   "metadata": {},
   "source": [
    "## 1. 加载模块和数据"
   ]
  },
  {
   "cell_type": "code",
   "execution_count": 108,
   "metadata": {
    "collapsed": true
   },
   "outputs": [],
   "source": [
    "import os\n",
    "import re\n",
    "from pprint import pprint\n",
    "import numpy as np\n",
    "import pandas as pd\n",
    "import time\n",
    "import jieba\n",
    "import jieba.analyse\n",
    "import jieba.posseg as pesg"
   ]
  },
  {
   "cell_type": "code",
   "execution_count": 109,
   "metadata": {
    "collapsed": false
   },
   "outputs": [],
   "source": [
    "jieba.initialize()\n",
    "jieba.load_userdict('user_dict1.txt')"
   ]
  },
  {
   "cell_type": "code",
   "execution_count": 110,
   "metadata": {
    "collapsed": false
   },
   "outputs": [],
   "source": [
    "data = pd.read_csv(\"bz_record_user_q_train.csv\",sep='\\n')\n",
    "data.columns = ['msg_content']"
   ]
  },
  {
   "cell_type": "code",
   "execution_count": 111,
   "metadata": {
    "collapsed": true
   },
   "outputs": [],
   "source": [
    "data.msg_content = data.msg_content.astype(str)"
   ]
  },
  {
   "cell_type": "code",
   "execution_count": 115,
   "metadata": {
    "collapsed": false
   },
   "outputs": [],
   "source": [
    "# data.msg_from = data.msg_from.astype(str)\n",
    "# data2 = data[data.msg_from.apply(len)==10].msg_content\n",
    "# data2.head()"
   ]
  },
  {
   "cell_type": "markdown",
   "metadata": {},
   "source": [
    "## 2. 数据处理成模型需要的格式"
   ]
  },
  {
   "cell_type": "code",
   "execution_count": 114,
   "metadata": {
    "collapsed": false
   },
   "outputs": [],
   "source": [
    "def merge_noun(a):\n",
    "    idx1 = 0\n",
    "    ll = []\n",
    "    while idx1 < len(a):\n",
    "        fg = False\n",
    "        word = a[idx1].word\n",
    "        flag = a[idx1].flag\n",
    "        idx2 = idx1+1\n",
    "        while idx2 < len(a):\n",
    "            if a[idx1].flag[0] == a[idx2].flag[0] == 'n':\n",
    "                word += a[idx2].word\n",
    "                idx2 += 1\n",
    "                fg = True\n",
    "            else:\n",
    "                break\n",
    "        if fg:\n",
    "            ll.append((word, 'n'))\n",
    "        else:\n",
    "            ll.append((word, flag))\n",
    "        idx1 = idx2\n",
    "    return ll"
   ]
  },
  {
   "cell_type": "code",
   "execution_count": 115,
   "metadata": {
    "collapsed": false
   },
   "outputs": [],
   "source": [
    "def tokenize(b):\n",
    "    ll2 = []\n",
    "    for sen in b:\n",
    "        word = sen[0]\n",
    "        flag = sen[1]\n",
    "        if flag.startswith('n'):\n",
    "            if len(word) == 1:\n",
    "                ll2.append((word, 'S'+flag,'S-N'))\n",
    "            else:\n",
    "                ll2 += list(zip(*[[tk for tk in word],['B'+flag]+['M'+flag]*(len(word)-2)+['E'+flag],['B-N']+['M-N']*(len(word)-2)+['E-N']]))\n",
    "        else:\n",
    "            if len(word) == 1:\n",
    "                ll2.append((word, 'S'+flag,'O'))\n",
    "            else:\n",
    "                ll2 += list(zip(*[[tk for tk in word],['B'+flag]+['M'+flag]*(len(word)-2)+['E'+flag],['O']*len(word)]))\n",
    "    return ll2"
   ]
  },
  {
   "cell_type": "code",
   "execution_count": 116,
   "metadata": {
    "collapsed": true
   },
   "outputs": [],
   "source": [
    "def ff(s):\n",
    "    pesg_cut = pesg.lcut(s.strip().replace(' ','，').replace('\\n',''))\n",
    "    merge_noun_result = merge_noun(pesg_cut)\n",
    "    return tokenize(merge_noun_result)"
   ]
  },
  {
   "cell_type": "code",
   "execution_count": 260,
   "metadata": {
    "collapsed": false
   },
   "outputs": [
    {
     "data": {
      "text/plain": [
       "[('问', 'Bz', 'O'),\n",
       " ('下', 'Ez', 'O'),\n",
       " ('易', 'Bv', 'O'),\n",
       " ('用', 'Ev', 'O'),\n",
       " ('宝', 'Snr', 'S-N'),\n",
       " ('好', 'Bl', 'O'),\n",
       " ('不', 'Ml', 'O'),\n",
       " ('好', 'El', 'O'),\n",
       " ('用', 'Sp', 'O'),\n",
       " ('？', 'Sx', 'O')]"
      ]
     },
     "execution_count": 260,
     "metadata": {},
     "output_type": "execute_result"
    }
   ],
   "source": [
    "ff('问下易用宝好不好用？')"
   ]
  },
  {
   "cell_type": "code",
   "execution_count": 13,
   "metadata": {
    "collapsed": true
   },
   "outputs": [],
   "source": [
    "def ner_postag(df_series,func):\n",
    "    t1 = time.time()\n",
    "    df = df_series.apply(func)\n",
    "    print('df apply time : ' + str(time.time() - t1))\n",
    "    t2 = time.time()\n",
    "    l = []\n",
    "    for row in df:\n",
    "        l += row\n",
    "        if row[-1][0] not in ('。','？','！','.','?','!'):\n",
    "            l.append(('。','Sx','O'))\n",
    "        l.append(())\n",
    "    del df\n",
    "    print('l append time : ' + str(time.time() - t2))\n",
    "    return l"
   ]
  },
  {
   "cell_type": "code",
   "execution_count": 11,
   "metadata": {
    "collapsed": false
   },
   "outputs": [
    {
     "name": "stdout",
     "output_type": "stream",
     "text": [
      "df apply time : 8383.529587745667\n",
      "l append time : 36.72373938560486\n"
     ]
    }
   ],
   "source": [
    "data_ner = ner_postag(data.msg_content,ff)"
   ]
  },
  {
   "cell_type": "code",
   "execution_count": 14,
   "metadata": {
    "collapsed": true
   },
   "outputs": [],
   "source": [
    "b = pd.DataFrame(data_ner)\n",
    "b.columns = ['a','b','c']"
   ]
  },
  {
   "cell_type": "code",
   "execution_count": 238,
   "metadata": {
    "collapsed": false
   },
   "outputs": [],
   "source": [
    "b.to_csv('train_all.csv',encoding='utf-8',header=None,index=None,sep=' ')"
   ]
  },
  {
   "cell_type": "markdown",
   "metadata": {},
   "source": [
    "## 3. 跑模型（这个过程在linux命令行中完成）"
   ]
  },
  {
   "cell_type": "markdown",
   "metadata": {},
   "source": [
    "```python\n",
    "..\\..\\crf_learn  -f 3 -c 4.0 template train.data model\n",
    "```\n",
    "\n",
    "可选参数：\n",
    "```\n",
    "\n",
    "-f, –freq=INT使用属性的出现次数不少于INT(默认为1)\n",
    "\n",
    "-m, –maxiter=INT设置INT为LBFGS的最大迭代次数 (默认10k)\n",
    "\n",
    "-c, –cost=FLOAT      设置FLOAT为代价参数，过大会过度拟合 (默认1.0)\n",
    "\n",
    "-e, –eta=FLOAT设置终止标准FLOAT(默认0.0001)\n",
    "\n",
    "-C, –convert将文本模式转为二进制模式\n",
    "\n",
    "-t, –textmodel为调试建立文本模型文件\n",
    "\n",
    "-a, –algorithm=(CRF|MIRA)\n",
    "\n",
    "选择训练算法，默认为CRF-L2\n",
    "\n",
    "-p, –thread=INT线程数(默认1)，利用多个CPU减少训练时间\n",
    "\n",
    "-H, –shrinking-size=INT\n",
    "\n",
    "设置INT为最适宜的跌代变量次数 (默认20)\n",
    "\n",
    "-v, –version显示版本号并退出\n",
    "\n",
    "-h, –help显示帮助并退出\n",
    "```\n",
    "\n",
    "输出：\n",
    "```\n",
    "iter：迭代次数。当迭代次数达到maxiter时，迭代终止\n",
    "\n",
    "terr：标记错误率\n",
    "\n",
    "serr：句子错误率\n",
    "\n",
    "obj：当前对象的值。当这个值收敛到一个确定值的时候，训练完成\n",
    "\n",
    "diff：与上一个对象值之间的相对差。当此值低于eta时，训练完成\n",
    "```"
   ]
  },
  {
   "cell_type": "code",
   "execution_count": null,
   "metadata": {
    "collapsed": true
   },
   "outputs": [],
   "source": [
    "crf_learn -m 256 -e 0.0008 -c 3.0 template train_all.data model_m256_e0008_c3_0424"
   ]
  },
  {
   "cell_type": "code",
   "execution_count": 12,
   "metadata": {
    "collapsed": true
   },
   "outputs": [],
   "source": [
    "# crf_learn -m 256 -e 0.0008 -c 3.0 template train_all.data model_m256_e0008_c3_0423"
   ]
  },
  {
   "cell_type": "markdown",
   "metadata": {},
   "source": [
    "## 4. 模型加载与测试（命令行加载测试或调用python接口方式）"
   ]
  },
  {
   "cell_type": "markdown",
   "metadata": {},
   "source": [
    "### 4.1 命令行加载\n",
    "\n",
    " crf_test -m model_file test_files >> result_file"
   ]
  },
  {
   "cell_type": "markdown",
   "metadata": {},
   "source": [
    "### 4.2 python接口方式\n",
    "首先\n",
    "```\n",
    "linux环境安装CRF++及python接口\n",
    "记录一下步骤：\n",
    "切换root权限\n",
    "./configure\n",
    "make\n",
    "make install\n",
    "cd python\n",
    "python setup.py build\n",
    "python setup.py install\n",
    "ln -s /usr/local/lib/libcrfpp.so* /usr/lib64/\n",
    "```"
   ]
  },
  {
   "cell_type": "code",
   "execution_count": 122,
   "metadata": {
    "collapsed": true
   },
   "outputs": [],
   "source": [
    "import CRFPP"
   ]
  },
  {
   "cell_type": "code",
   "execution_count": null,
   "metadata": {
    "collapsed": true
   },
   "outputs": [],
   "source": [
    "## 这里可以写一个try:\n",
    "# except RuntimeError, e:\n",
    "#    print(\"RuntimeError: \", e)"
   ]
  },
  {
   "cell_type": "code",
   "execution_count": 263,
   "metadata": {
    "collapsed": false
   },
   "outputs": [
    {
     "data": {
      "text/plain": [
       "True"
      ]
     },
     "execution_count": 263,
     "metadata": {},
     "output_type": "execute_result"
    }
   ],
   "source": [
    "tagger = CRFPP.Tagger(\"-m model_10000_m256_e0003_c2 -v 3 -n2\")\n",
    "tagger.clear()"
   ]
  },
  {
   "cell_type": "code",
   "execution_count": 264,
   "metadata": {
    "collapsed": true
   },
   "outputs": [],
   "source": [
    "def tokenize2(b):\n",
    "    ll2 = []\n",
    "    for sen in b:\n",
    "        word = sen[0]\n",
    "        flag = sen[1]\n",
    "        if len(word) == 1:\n",
    "            ll2.append(word+' '+'S'+flag)\n",
    "        else:\n",
    "            ll2 += list(map(lambda x:x[0]+' '+x[1], zip([x for x in word], ['B'+flag]+['M'+flag]*(len(word)-2)+['E'+flag])))\n",
    "    return ll2\n",
    "def input_user_q(s):\n",
    "    pesg_cut = pesg.lcut(s.strip().replace(' ','，').replace('\\n',''))\n",
    "    merge_noun_result = merge_noun(pesg_cut)\n",
    "    return tokenize2(merge_noun_result)"
   ]
  },
  {
   "cell_type": "code",
   "execution_count": 265,
   "metadata": {
    "collapsed": false
   },
   "outputs": [
    {
     "data": {
      "text/plain": [
       "[]"
      ]
     },
     "execution_count": 265,
     "metadata": {},
     "output_type": "execute_result"
    }
   ],
   "source": [
    "s = ''\n",
    "l = input_user_q(s)\n",
    "# 加载\n",
    "[tagger.add(x) for x in l]"
   ]
  },
  {
   "cell_type": "code",
   "execution_count": 266,
   "metadata": {
    "collapsed": false
   },
   "outputs": [
    {
     "name": "stdout",
     "output_type": "stream",
     "text": [
      "[]\n",
      "[]\n"
     ]
    }
   ],
   "source": [
    "tagger.parse()\n",
    "print([tagger.x(i,0) for i in range(tagger.size())])\n",
    "print([tagger.y2(i) for i in range(tagger.size())])"
   ]
  },
  {
   "cell_type": "code",
   "execution_count": 267,
   "metadata": {
    "collapsed": false
   },
   "outputs": [
    {
     "name": "stdout",
     "output_type": "stream",
     "text": [
      "\n",
      "\t\n",
      "命名实体有：\n"
     ]
    },
    {
     "data": {
      "text/plain": [
       "[]"
      ]
     },
     "execution_count": 267,
     "metadata": {},
     "output_type": "execute_result"
    }
   ],
   "source": [
    "def ner_f(st,tagger):\n",
    "    l = []\n",
    "    s = ''\n",
    "    for i in range(tagger.size()):\n",
    "        if tagger.y2(i) == 'B-N' or tagger.y2(i) == 'M-N':\n",
    "            s += tagger.x(i,0)\n",
    "        elif tagger.y2(i) == 'E-N':\n",
    "            s += tagger.x(i,0)\n",
    "            l.append(s)\n",
    "            s = ''\n",
    "    print(st)\n",
    "    print('\\t')\n",
    "    print('命名实体有：')\n",
    "    return l\n",
    "ner_f(s,tagger)"
   ]
  },
  {
   "cell_type": "code",
   "execution_count": null,
   "metadata": {
    "collapsed": false
   },
   "outputs": [],
   "source": [
    "print(\"column size: \" , tagger.xsize())\n",
    "print(\"token size: \" , tagger.size())\n",
    "print(\"tag size: \" , tagger.ysize())\n",
    "\n",
    "print(\"tagset information:\")\n",
    "ysize = tagger.ysize()\n",
    "for i in range(0, ysize-1):\n",
    "    print(\"tag \" , i , \" \" , tagger.yname(i))\n",
    "\n",
    "# parse and change internal stated as 'parsed'\n",
    "tagger.parse()    \n",
    "\n",
    "print(\"conditional prob=\" , tagger.prob(), \" log(Z)=\" , tagger.Z())\n",
    "print('\\t')\n",
    "\n",
    "size = tagger.size()\n",
    "xsize = tagger.xsize()\n",
    "for i in range(0, size):\n",
    "        for j in range(0, xsize):\n",
    "              print( tagger.x(i, j) , \"\\t\"), \n",
    "        print(i, \"\\t\")\n",
    "        print(tagger.y2(i) , \"\\t\"),\n",
    "        print (\"Details\"),\n",
    "        for j in range(0, (ysize-1)):\n",
    "              print (\"\\t\" , tagger.yname(j) , \"/prob=\" ,tagger.prob(i,j), \"/alpha=\" ,tagger.alpha(i, j), \"/beta=\" ,tagger.beta(i, j)),\n",
    "        print(\"\\n\"),\n",
    "\n",
    "print (\"nbest outputs:\")\n",
    "for n in range(0, 9):\n",
    "    if (not tagger.next()):\n",
    "        continue\n",
    "    print(\"nbest n=\" ,n , \"\\tconditional prob=\" ,tagger.prob())\n",
    "    # you can access any information using tagger.y()...\n",
    "print(\"Done!\")"
   ]
  },
  {
   "cell_type": "code",
   "execution_count": null,
   "metadata": {
    "collapsed": true
   },
   "outputs": [],
   "source": []
  }
 ],
 "metadata": {
  "anaconda-cloud": {},
  "kernelspec": {
   "display_name": "Python 3",
   "language": "python",
   "name": "python3"
  },
  "language_info": {
   "codemirror_mode": {
    "name": "ipython",
    "version": 3
   },
   "file_extension": ".py",
   "mimetype": "text/x-python",
   "name": "python",
   "nbconvert_exporter": "python",
   "pygments_lexer": "ipython3",
   "version": "3.5.2"
  }
 },
 "nbformat": 4,
 "nbformat_minor": 1
}
